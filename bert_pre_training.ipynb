{
 "cells": [
  {
   "cell_type": "code",
   "execution_count": null,
   "id": "64bd453c",
   "metadata": {},
   "outputs": [],
   "source": [
    "from datasets import load_dataset"
   ]
  },
  {
   "cell_type": "code",
   "execution_count": null,
   "id": "e31c4bf0",
   "metadata": {
    "scrolled": false
   },
   "outputs": [],
   "source": [
    "dataset = load_dataset('pg19')"
   ]
  },
  {
   "cell_type": "code",
   "execution_count": null,
   "id": "2a666bf4",
   "metadata": {},
   "outputs": [],
   "source": []
  }
 ],
 "metadata": {
  "kernelspec": {
   "display_name": "Python 3",
   "language": "python",
   "name": "python3"
  },
  "language_info": {
   "codemirror_mode": {
    "name": "ipython",
    "version": 3
   },
   "file_extension": ".py",
   "mimetype": "text/x-python",
   "name": "python",
   "nbconvert_exporter": "python",
   "pygments_lexer": "ipython3",
   "version": "3.8.8"
  }
 },
 "nbformat": 4,
 "nbformat_minor": 5
}
